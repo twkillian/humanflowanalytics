{
 "cells": [
  {
   "cell_type": "code",
   "execution_count": 44,
   "metadata": {
    "collapsed": true
   },
   "outputs": [],
   "source": [
    "%matplotlib inline\n",
    "import numpy as np\n",
    "import csv\n",
    "import sys\n",
    "import matplotlib.pyplot as plt\n",
    "\n",
    "np.set_printoptions(edgeitems=10)"
   ]
  },
  {
   "cell_type": "markdown",
   "metadata": {},
   "source": [
    "###Code for writing submission file"
   ]
  },
  {
   "cell_type": "code",
   "execution_count": 298,
   "metadata": {
    "collapsed": false
   },
   "outputs": [],
   "source": [
    "with open('data/test.txt') as csvfile:\n",
    "    reader = csv.reader(csvfile)\n",
    "    reader.next()\n",
    "    with open ('submission.txt', 'w') as f:\n",
    "        counter = 1\n",
    "        f.write('Index,Count\\n')\n",
    "        for row in reader:\n",
    "            f.write('{},{}\\n'.format(counter, agg_round[(int(row[1])%10000)/100, int(row[0][1:])]))\n",
    "            counter += 1"
   ]
  },
  {
   "cell_type": "markdown",
   "metadata": {},
   "source": [
    "###Import data"
   ]
  },
  {
   "cell_type": "code",
   "execution_count": 439,
   "metadata": {
    "collapsed": false
   },
   "outputs": [],
   "source": [
    "data = np.loadtxt('data/train.txt', dtype=int, delimiter=',', skiprows=1)"
   ]
  },
  {
   "cell_type": "markdown",
   "metadata": {},
   "source": [
    "###Fill data with row means"
   ]
  },
  {
   "cell_type": "code",
   "execution_count": 515,
   "metadata": {
    "collapsed": false
   },
   "outputs": [],
   "source": [
    "def fill(data, method='rowmean', roundtype='floor'):\n",
    "    if method == 'rowmean':\n",
    "        temp = data        \n",
    "        for i in range(data.shape[0]):\n",
    "            row_mean = temp[i, 1:][temp[i, 1:]!=-1].mean()\n",
    "            if roundtype == 'ceil':\n",
    "                row_mean = np.ceil(row_mean)\n",
    "            elif roundtype == 'floor':\n",
    "                row_mean = np.floor(row_mean)\n",
    "            np.place(data[i], data[i]==-1, row_mean)\n",
    "    \n",
    "    return data"
   ]
  },
  {
   "cell_type": "code",
   "execution_count": 517,
   "metadata": {
    "collapsed": true
   },
   "outputs": [],
   "source": [
    "def fill_by_sensor(data, roundtype='floor'):\n",
    "    temp = data        \n",
    "    for i in range(data.shape[1]):\n",
    "        if i > 0:\n",
    "            hourmean = np.zeros(24)\n",
    "            sensor = data[:, i][data[:, i] != -1]\n",
    "            for i in range(24):\n",
    "                hourmean[i] = sensor[i*1800:(i+1)*1800].mean()\n",
    "            \n",
    "        \n",
    "        \n",
    "#         row_mean = temp[i, 1:][temp[i, 1:]!=-1].mean()\n",
    "#         if roundtype == 'ceil':\n",
    "#             row_mean = np.ceil(row_mean)\n",
    "#         elif roundtype == 'floor':\n",
    "#             row_mean = np.floor(row_mean)\n",
    "#         np.place(data[i], data[i]==-1, row_mean)\n",
    "    \n",
    "    return hourmean"
   ]
  },
  {
   "cell_type": "code",
   "execution_count": 518,
   "metadata": {
    "collapsed": false
   },
   "outputs": [
    {
     "data": {
      "text/plain": [
       "array([ 0.10555556,  0.07666667,  0.035     ,  0.04388889,  0.10611111,\n",
       "        0.165     ,  0.18722222,  0.04055556,  0.04444444,  0.13333333,\n",
       "        0.165     ,  0.11222222,  0.08333333,  0.03055556,  0.075     ,\n",
       "        0.11333333,  0.13222222,  0.15722222,  0.13944444,  0.03166667,\n",
       "        0.14888889,  0.02388889,  0.15833333,  0.07888889])"
      ]
     },
     "execution_count": 518,
     "metadata": {},
     "output_type": "execute_result"
    }
   ],
   "source": [
    "fill_by_sensor(data)"
   ]
  },
  {
   "cell_type": "code",
   "execution_count": 267,
   "metadata": {
    "collapsed": false
   },
   "outputs": [],
   "source": [
    "a = fill(data, 'floor')\n",
    "s = np.zeros((a.shape[0] / 60., a.shape[1]), dtype=int)\n",
    "\n",
    "for i in range(s.shape[0]):\n",
    "    s[i, 0] = a[(i+1)*60 - 1, 0] % 10000\n",
    "    s[i, 1:] = np.sum(a[i*60:(i+1)*60, 1:], axis=0)"
   ]
  },
  {
   "cell_type": "code",
   "execution_count": 268,
   "metadata": {
    "collapsed": false
   },
   "outputs": [],
   "source": [
    "agg = np.zeros((24, a.shape[1]-1), dtype=int) # avg value for each sensor for each hour\n",
    "for i in range(s.shape[0]):\n",
    "    agg[(s[i, 0]-59) / 100] += s[i, 1:]\n",
    "agg /= 30"
   ]
  },
  {
   "cell_type": "markdown",
   "metadata": {},
   "source": [
    "###Adjacency List"
   ]
  },
  {
   "cell_type": "code",
   "execution_count": 191,
   "metadata": {
    "collapsed": false
   },
   "outputs": [],
   "source": [
    "with open('data/sensor-coordinates.txt') as f:\n",
    "    coords = list()\n",
    "    reader = csv.reader(f)\n",
    "    reader.next()\n",
    "    for row in reader:\n",
    "        coords.append((float(row[1]), float(row[2])))"
   ]
  },
  {
   "cell_type": "code",
   "execution_count": 193,
   "metadata": {
    "collapsed": false
   },
   "outputs": [],
   "source": [
    "def dist(p1, p2):\n",
    "    return np.sqrt((p1[0] - p2[0])**2 + (p1[1] - p2[1])**2)"
   ]
  },
  {
   "cell_type": "code",
   "execution_count": 285,
   "metadata": {
    "collapsed": true
   },
   "outputs": [],
   "source": [
    "def get_nearest(coords, r=10):\n",
    "    nearest = list()\n",
    "    for i in range(56):\n",
    "        temp = list()\n",
    "        for j in range(56):\n",
    "            if i != j:\n",
    "                if dist(coords[i], coords[j]) < r:\n",
    "                    temp.append(j+1)\n",
    "        nearest.append((i+1, tuple(temp)))\n",
    "    return nearest"
   ]
  },
  {
   "cell_type": "code",
   "execution_count": 286,
   "metadata": {
    "collapsed": false
   },
   "outputs": [],
   "source": [
    "n = get_nearest(coords)"
   ]
  },
  {
   "cell_type": "code",
   "execution_count": 294,
   "metadata": {
    "collapsed": false
   },
   "outputs": [],
   "source": [
    "def average(agg, p=2):\n",
    "    temp_agg = np.array(agg, dtype=float)\n",
    "    agg_f = np.array(agg, dtype=float)\n",
    "    for i in range(agg_f.shape[1]):\n",
    "        n_adj = len(n[i][1])\n",
    "        agg_f[:, i] = p * temp_agg[:, i]\n",
    "        for j in n[i][1]:\n",
    "            agg_f[:, i] += temp_agg[:, j-1]\n",
    "        agg_f[:, i] /= n_adj + p\n",
    "    agg_round = np.round(agg_f)\n",
    "    return agg_round"
   ]
  },
  {
   "cell_type": "markdown",
   "metadata": {},
   "source": [
    "###GMM"
   ]
  },
  {
   "cell_type": "code",
   "execution_count": 3,
   "metadata": {
    "collapsed": true
   },
   "outputs": [],
   "source": [
    "from sklearn.gaussian_process import GaussianProcess"
   ]
  },
  {
   "cell_type": "code",
   "execution_count": 291,
   "metadata": {
    "collapsed": false
   },
   "outputs": [],
   "source": [
    "def timelist():\n",
    "    t = list()\n",
    "    for i in range(24):\n",
    "        for j in range(60):\n",
    "            t.append(100*i + j)\n",
    "    return t"
   ]
  },
  {
   "cell_type": "code",
   "execution_count": 533,
   "metadata": {
    "collapsed": false
   },
   "outputs": [
    {
     "data": {
      "image/png": "[encoded data removed]",
      "text/plain": [
       "<matplotlib.figure.Figure at 0x1171bec90>"
      ]
     },
     "metadata": {},
     "output_type": "display_data"
    }
   ],
   "source": [
    "processes = list()\n",
    "t = timelist()\n",
    "n_ests = 2\n",
    "for i in range(1):\n",
    "    gps = [GaussianProcess(regr='quadratic', corr='cubic', theta0=1e-2, nugget=1e-10, normalize=True) for i in range(n_ests)]\n",
    "    sensor = data[:, [0, i+1]]\n",
    "    sensor = sensor[sensor[:, 1] > -1]\n",
    "    sensor[:, 0] %= 10000\n",
    "    for k in range(n_ests):\n",
    "        X = list()\n",
    "        y = list()\n",
    "        trueX = list()\n",
    "        truey = list()\n",
    "        for j in t:\n",
    "            filtered = sensor[sensor[:, 0] == j]\n",
    "            if filtered.shape[0] != 0:\n",
    "                choice = np.random.choice(np.arange(filtered.shape[0]))\n",
    "                if filtered[choice, 1] == 0:\n",
    "#                     if np.random.uniform() > 0.999:\n",
    "#                         X.append(filtered[choice, 0])\n",
    "#                         y.append(filtered[choice, 1])\n",
    "                    pass\n",
    "                else:\n",
    "                    X.append(filtered[choice, 0])\n",
    "                    y.append(filtered[choice, 1])\n",
    "                trueX.append(filtered[choice, 0])\n",
    "                truey.append(filtered[choice, 1])\n",
    "                \n",
    "        gps[k].fit(np.array(X).reshape(len(X), 1), np.array(y))\n",
    "\n",
    "    t = timelist()\n",
    "    resp = np.zeros((n_ests, len(t)))\n",
    "    \n",
    "    for j in range(n_ests):\n",
    "        resp[j] = np.array([gps[j].predict(i)[0] for i in t])\n",
    "    resp = resp.mean(axis=0)\n",
    "    plt.plot(t, resp);\n",
    "    plt.scatter(X, y, color='r');\n",
    "    plt.xlim(0, 2359);"
   ]
  },
  {
   "cell_type": "code",
   "execution_count": 418,
   "metadata": {
    "collapsed": true
   },
   "outputs": [],
   "source": [
    "from sklearn.neighbors import KernelDensity\n",
    "from sklearn.neighbors import DistanceMetric"
   ]
  },
  {
   "cell_type": "code",
   "execution_count": 438,
   "metadata": {
    "collapsed": false
   },
   "outputs": [
    {
     "data": {
      "image/png": "[encoded data removed]",
      "text/plain": [
       "<matplotlib.figure.Figure at 0x116e42c10>"
      ]
     },
     "metadata": {},
     "output_type": "display_data"
    }
   ],
   "source": [
    "kd = KernelDensity(kernel='gaussian', bandwidth=15)\n",
    "t = timelist()[900:950]\n",
    "for i in [45]:\n",
    "    sensor = data[:, [0, i+1]]\n",
    "    sensor = sensor[sensor[:, 1] > -1]\n",
    "    sensor[:, 0] %= 10000\n",
    "    X = list()\n",
    "    for i in range(10):\n",
    "        for j in range(len(t)):\n",
    "            filtered = sensor[sensor[:, 0] == t[j]]\n",
    "            if filtered.shape[0] != 0:\n",
    "                choice = np.random.choice(np.arange(filtered.shape[0]))\n",
    "#                 if filtered[choice, 1] == 0:\n",
    "#                     if np.random.uniform() > 0.99999999:\n",
    "#                         X.append(filtered[choice, 1])\n",
    "#                 else:\n",
    "                X.append(filtered[choice, 1])\n",
    "\n",
    "    kd.fit(np.array(X).reshape(len(X), 1))\n",
    "\n",
    "kd.score_samples(1)\n",
    "plt.plot(np.linspace(0,10), np.exp(kd.score_samples(np.linspace(0,10).reshape(50,1))))\n",
    "# plt.scatter(, y, color='r');\n",
    "# plt.xlim(0, 2359);"
   ]
  },
  {
   "cell_type": "code",
   "execution_count": 411,
   "metadata": {
    "collapsed": false
   },
   "outputs": [
    {
     "name": "stdout",
     "output_type": "stream",
     "text": [
      "[0, 0, 0, 1, 0, 0, 0, 0, 0, 2, 0, 0, 0, 0, 0, 3, 0, 2, 2, 1, 0, 0, 1, 0, 0, 2, 2, 0, 0, 0, 2, 0, 4, 0, 0, 0, 2, 0, 0, 0, 1, 4, 1, 0, 0, 2, 0, 0, 0, 0, 0, 0, 0, 0, 0, 0, 2, 0, 0, 0, 2, 3, 0, 0, 0, 0, 0, 0, 0, 2, 0, 0, 0, 4, 0, 0, 0, 1, 0, 0, 2, 8, 4, 2, 0, 0, 2, 0, 0, 0, 0, 0, 0, 0, 0, 0, 0, 0, 1, 0, 0, 3, 0, 0, 0, 0, 0, 0, 0, 0, 0, 0, 0, 0, 0, 2, 0, 0, 0, 0, 0, 0, 0, 0, 0, 0, 2, 0, 0, 0, 0, 0, 0, 0, 0, 0, 0, 0, 0, 0, 1, 0, 2, 0, 0, 0, 0, 0, 0, 0, 0, 0, 0, 4, 0, 0, 0, 1, 1, 2, 0, 0, 0, 0, 0, 0, 0, 2, 0, 0, 0, 1, 0, 0, 0, 0, 0, 0, 14, 3, 0, 0, 0, 8, 0, 0, 0, 0, 0, 0, 0, 0, 0, 3, 0, 1, 0, 0, 0, 2, 0, 0, 0, 1, 0, 0, 4, 0, 0, 1, 5, 0, 0, 0, 0, 0, 0, 0, 0, 3, 0, 0, 0, 0, 0, 0, 3, 0, 0, 0, 0, 0, 0, 0, 0, 0, 1, 0, 1, 0, 0, 0, 0, 0, 1, 0, 0, 0, 0, 0, 0, 1, 0, 2, 0, 2, 0, 0, 3, 0, 0, 0, 0, 0, 0, 0, 0, 0, 0, 0, 1, 4, 0, 0, 0, 0, 0, 0, 0, 1, 0, 0, 0, 0, 0, 0, 0, 0, 1, 0, 2, 0, 0, 0, 0, 3, 0, 0, 0, 0, 0, 0, 0, 0, 1, 0, 0, 0, 0, 2, 0, 0, 1, 0, 0, 0, 0, 0, 0, 1, 0, 0, 0, 0, 0, 0, 0, 0, 0, 0, 2, 0, 0, 0, 0, 0, 0, 0, 1, 0, 0, 0, 1, 0, 0, 0, 0, 0, 0, 2, 14, 0, 0, 0, 1, 0, 1, 0, 1, 0, 0, 0, 0, 0, 0, 0, 0, 0, 1, 0, 0, 2, 1, 0, 0, 0, 0, 0, 0, 2, 2, 0, 0, 0, 0, 0, 0, 1, 0, 0, 0, 1, 0, 0, 1, 1, 0, 0, 0, 0, 2, 3, 0, 0, 0, 0, 0, 0, 0, 0, 0, 0, 0, 0, 0, 0, 0, 0, 0, 1, 2, 2, 0, 0, 0, 0, 0, 0, 0, 0, 0, 0, 1, 0, 0, 1, 0, 0, 2, 0, 0, 0, 0, 0, 0, 2, 0, 0, 0, 0, 0, 0, 0, 0, 0, 0, 2, 0, 0, 0, 0, 3, 0, 0, 0, 0, 1, 1, 0, 0, 0, 0, 0, 0, 0, 0, 0, 1, 0, 0, 0, 0, 0, 2, 0, 1, 7, 0, 0, 0, 2, 0, 0, 0, 0, 0, 0, 0, 1, 0, 0, 0, 0, 2, 0, 0, 0, 2, 0, 1, 0, 0, 1, 0, 0, 0, 0, 0, 0, 1, 2, 1, 0, 0, 0, 0, 0, 0, 0, 0, 0, 0, 0, 0, 0, 0, 3, 2, 0, 0, 0, 1, 0, 0, 0, 3, 0, 0, 0, 1, 0, 0, 0, 0, 4, 0, 0, 0, 0, 0, 0, 0, 2, 0, 0, 0, 4, 1, 0, 0, 0, 0, 0, 0, 0, 0, 1, 0, 0, 0, 0, 0, 4, 0, 0, 0, 0, 0, 0, 0, 0, 2, 0, 0, 0, 2, 0, 2, 2, 0, 0, 0, 1, 0, 0, 0, 0, 0, 2, 0, 0, 0, 0, 0, 0, 2, 0, 0, 0, 1, 0, 0, 0, 0, 2, 0, 0, 0, 0, 9, 0, 2, 0, 0, 0, 0, 0, 1, 0, 2, 0, 0, 0, 0, 0, 0, 0, 0, 0, 1, 0, 0, 3, 4, 0, 0, 2, 0, 0, 0, 0, 0, 0, 0, 0, 0, 2, 0, 0, 0, 0, 1, 0, 0, 0, 0, 0, 0, 0, 0, 0, 0, 0, 8, 0, 0, 0, 1, 0, 3, 4, 0, 0, 0, 2, 2, 0, 0, 0, 0, 0, 0, 0, 0, 0, 0, 0, 1, 0, 0, 0, 0, 0, 0, 0, 2, 9, 0, 0, 2, 0, 0, 0, 0, 3, 0, 0, 0, 0, 9, 0, 0, 0, 1, 0, 0, 2, 0, 4, 2, 1, 0, 0, 6, 0, 0, 0, 0, 0, 0, 0, 0, 0, 0, 0, 0, 0, 0, 3, 0, 0, 0, 0, 0, 0, 0, 4, 0, 1, 0, 0, 0, 0, 0, 0, 0, 0, 0, 0, 0, 0, 0, 0, 0, 0, 0, 0, 0, 0, 3, 0, 0, 0, 0, 0, 0, 0, 0, 0, 0, 0, 0, 0, 0, 0, 0, 0, 0, 0, 1, 2, 1, 1, 0, 0, 0, 0, 1, 0, 0, 0, 0, 0, 3, 0, 0, 2, 0, 0, 0, 0, 2, 0, 0, 0, 0, 0, 0, 0, 1, 0, 0, 0, 0, 2, 0, 0, 4, 0, 0, 0, 0, 0, 0, 0, 0, 0, 0, 0, 3, 0, 0, 2, 0, 0, 0, 1, 0, 0, 0, 0, 0, 0, 0, 2, 0, 0, 0, 0, 0, 0, 0, 4, 0, 0, 0, 0, 1, 0, 6, 0, 1, 0, 0, 2, 0, 0, 0, 0, 0, 0, 0, 0, 0, 0, 0, 2, 0, 0, 0, 4, 0, 1, 0, 0, 0, 0, 0, 0, 0, 2, 0, 0, 0, 0, 4, 0, 0, 0, 0, 5, 0, 0, 1, 0, 0, 2, 1, 0, 2, 0, 4, 0, 0, 0, 0, 2, 0, 0, 0, 0, 0, 0, 1, 1, 0, 1, 0, 1, 0, 2, 0, 0, 0, 0, 0, 1, 0, 0, 0, 0, 0, 0, 0, 0, 0, 0, 9, 0, 2, 2, 0, 0, 0, 0, 0, 2, 0, 0, 0, 0, 0, 1, 3, 0, 0, 0, 0, 0, 0]\n"
     ]
    }
   ],
   "source": [
    "DistanceMetric."
   ]
  },
  {
   "cell_type": "code",
   "execution_count": 362,
   "metadata": {
    "collapsed": false
   },
   "outputs": [
    {
     "data": {
      "text/plain": [
       "(50,)"
      ]
     },
     "execution_count": 362,
     "metadata": {},
     "output_type": "execute_result"
    }
   ],
   "source": [
    "np.linspace(0, 3).shape"
   ]
  },
  {
   "cell_type": "code",
   "execution_count": null,
   "metadata": {
    "collapsed": true
   },
   "outputs": [],
   "source": []
  }
 ],
 "metadata": {
  "kernelspec": {
   "display_name": "Python 2",
   "language": "python",
   "name": "python2"
  },
  "language_info": {
   "codemirror_mode": {
    "name": "ipython",
    "version": 2
   },
   "file_extension": ".py",
   "mimetype": "text/x-python",
   "name": "python",
   "nbconvert_exporter": "python",
   "pygments_lexer": "ipython2",
   "version": "2.7.10"
  }
 },
 "nbformat": 4,
 "nbformat_minor": 0
}
