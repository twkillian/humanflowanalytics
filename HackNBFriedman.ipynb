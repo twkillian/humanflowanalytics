{
 "cells": [
  {
   "cell_type": "code",
   "execution_count": 166,
   "metadata": {
    "collapsed": true
   },
   "outputs": [],
   "source": [
    "import numpy as np\n",
    "import csv\n",
    "import sys\n",
    "\n",
    "np.set_printoptions(edgeitems=10)"
   ]
  },
  {
   "cell_type": "markdown",
   "metadata": {},
   "source": [
    "###Code for writing submission file"
   ]
  },
  {
   "cell_type": "code",
   "execution_count": 187,
   "metadata": {
    "collapsed": false
   },
   "outputs": [],
   "source": [
    "with open('data/test.txt') as csvfile:\n",
    "    reader = csv.reader(csvfile)\n",
    "    reader.next()\n",
    "    with open ('submission.txt', 'w') as f:\n",
    "        counter = 1\n",
    "        f.write('Index,Count\\n')\n",
    "        for row in reader:\n",
    "            f.write('{},{}\\n'.format(counter, agg[(int(row[1])%10000)/100, int(row[0][1:])]))\n",
    "            counter += 1"
   ]
  },
  {
   "cell_type": "markdown",
   "metadata": {},
   "source": [
    "###Import data"
   ]
  },
  {
   "cell_type": "code",
   "execution_count": 224,
   "metadata": {
    "collapsed": false
   },
   "outputs": [],
   "source": [
    "data = np.loadtxt('data/train.txt', dtype=int, delimiter=',', skiprows=1)"
   ]
  },
  {
   "cell_type": "markdown",
   "metadata": {},
   "source": [
    "###Fill data with row means"
   ]
  },
  {
   "cell_type": "code",
   "execution_count": 105,
   "metadata": {
    "collapsed": false
   },
   "outputs": [],
   "source": [
    "def fill(data, method='rowmean', roundtype='ceil'):\n",
    "    if method == 'rowmean':\n",
    "        temp = data        \n",
    "        for i in range(data.shape[0]):\n",
    "            row_mean = temp[i, 1:][temp[i, 1:]!=-1].mean()\n",
    "            if roundtype == 'ceil':\n",
    "                row_mean = np.ceil(row_mean)\n",
    "            elif roundtype == 'floor':\n",
    "                row_mean = np.floor(row_mean)\n",
    "            np.place(data[i], data[i]==-1, row_mean)\n",
    "    \n",
    "    return data"
   ]
  },
  {
   "cell_type": "code",
   "execution_count": 107,
   "metadata": {
    "collapsed": false
   },
   "outputs": [],
   "source": [
    "a = fill(data)\n",
    "s = np.zeros((a.shape[0] / 60., a.shape[1]), dtype=int)\n",
    "\n",
    "for i in range(s.shape[0]):\n",
    "    s[i, 0] = a[(i+1)*60 - 1, 0] % 10000\n",
    "    s[i, 1:] = np.sum(a[i*60:(i+1)*60, 1:], axis=0)"
   ]
  },
  {
   "cell_type": "code",
   "execution_count": 159,
   "metadata": {
    "collapsed": false
   },
   "outputs": [],
   "source": [
    "agg = np.zeros((24, a.shape[1]-1), dtype=int) # avg value for each sensor for each hour\n",
    "for i in range(s.shape[0]):\n",
    "    agg[(s[i, 0]-59) / 100] += s[i, 1:]\n",
    "agg /= 30"
   ]
  },
  {
   "cell_type": "markdown",
   "metadata": {},
   "source": [
    "###Adjacency List"
   ]
  },
  {
   "cell_type": "code",
   "execution_count": 191,
   "metadata": {
    "collapsed": false
   },
   "outputs": [],
   "source": [
    "with open('data/sensor-coordinates.txt') as f:\n",
    "    coords = list()\n",
    "    reader = csv.reader(f)\n",
    "    reader.next()\n",
    "    for row in reader:\n",
    "        coords.append((float(row[1]), float(row[2])))"
   ]
  },
  {
   "cell_type": "code",
   "execution_count": 193,
   "metadata": {
    "collapsed": false
   },
   "outputs": [],
   "source": [
    "def dist(p1, p2):\n",
    "    return np.sqrt((p1[0] - p2[0])**2 + (p1[1] - p2[1])**2)"
   ]
  },
  {
   "cell_type": "code",
   "execution_count": 240,
   "metadata": {
    "collapsed": true
   },
   "outputs": [],
   "source": [
    "def get_nearest(coords, r=10):\n",
    "    nearest = list()\n",
    "    for i in range(56):\n",
    "        temp = list()\n",
    "        for j in range(56):\n",
    "            if i != j:\n",
    "                if dist(coords[i], coords[j]) < r:\n",
    "                    temp.append(j+1)\n",
    "        nearest.append(i+1)\n",
    "        nearest.append(tuple(temp))\n",
    "    return nearest"
   ]
  },
  {
   "cell_type": "code",
   "execution_count": 241,
   "metadata": {
    "collapsed": false
   },
   "outputs": [],
   "source": [
    "n = get_nearest(coords)"
   ]
  }
 ],
 "metadata": {
  "kernelspec": {
   "display_name": "Python 2",
   "language": "python",
   "name": "python2"
  },
  "language_info": {
   "codemirror_mode": {
    "name": "ipython",
    "version": 2
   },
   "file_extension": ".py",
   "mimetype": "text/x-python",
   "name": "python",
   "nbconvert_exporter": "python",
   "pygments_lexer": "ipython2",
   "version": "2.7.10"
  }
 },
 "nbformat": 4,
 "nbformat_minor": 0
}
