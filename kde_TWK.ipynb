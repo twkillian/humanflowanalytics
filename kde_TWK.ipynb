{
 "cells": [
  {
   "cell_type": "code",
   "execution_count": 1,
   "metadata": {
    "collapsed": false
   },
   "outputs": [],
   "source": [
    "%matplotlib inline\n",
    "import numpy as np\n",
    "import scipy as sp\n",
    "import matplotlib.pyplot as plt\n",
    "import csv\n",
    "from math import *\n",
    "import pickle\n",
    "\n",
    "from scipy.stats import gaussian_kde\n",
    "from sklearn.neighbors import KernelDensity\n",
    "\n",
    "from sklearn.grid_search import GridSearchCV"
   ]
  },
  {
   "cell_type": "code",
   "execution_count": 2,
   "metadata": {
    "collapsed": true
   },
   "outputs": [],
   "source": [
    "data = np.loadtxt('data/train.txt', dtype=int, delimiter=',',skiprows=1)\n",
    "# timestamps = data[:,0]\n",
    "# data = data[:,1:]\n",
    "orig_data = np.copy(data)"
   ]
  },
  {
   "cell_type": "code",
   "execution_count": 3,
   "metadata": {
    "collapsed": true
   },
   "outputs": [],
   "source": [
    "def query_data(data, sensor, time_start, time_end):\n",
    "    # Get starting index and ending index, derived from time_start and time_end\n",
    "    st_day, en_day = time_start/10000, time_end/10000\n",
    "    st_hour, en_hour = (time_start%10000)/100, (time_end%10000)/100\n",
    "    st_min, en_min = time_start%100, time_end%100\n",
    "    st_index = (st_day-1)*1440 + st_hour*60 + st_min\n",
    "    en_index = (en_day-1)*1440 + en_hour*60 + en_min\n",
    "    \n",
    "    return np.sum(data[st_index:en_index+1,sensor])"
   ]
  },
  {
   "cell_type": "markdown",
   "metadata": {},
   "source": [
    "#### Get nearest neighbors of each piece"
   ]
  },
  {
   "cell_type": "code",
   "execution_count": 4,
   "metadata": {
    "collapsed": true
   },
   "outputs": [],
   "source": [
    "with open('data/sensor-coordinates.txt') as f:\n",
    "    coords = list()\n",
    "    reader = csv.reader(f)\n",
    "    reader.next()\n",
    "    for row in reader:\n",
    "        coords.append((float(row[1]), float(row[2])))"
   ]
  },
  {
   "cell_type": "code",
   "execution_count": 5,
   "metadata": {
    "collapsed": true
   },
   "outputs": [],
   "source": [
    "def dist(p1, p2):\n",
    "    return np.sqrt((p1[0] - p2[0])**2 + (p1[1] - p2[1])**2)"
   ]
  },
  {
   "cell_type": "code",
   "execution_count": 13,
   "metadata": {
    "collapsed": true
   },
   "outputs": [],
   "source": [
    "def get_nearest(coords, r=10):\n",
    "    nearest = list()\n",
    "    for i in range(56):\n",
    "        temp = list()\n",
    "        for j in range(56):\n",
    "            if i != j:\n",
    "                if dist(coords[i], coords[j]) < r:\n",
    "                    temp.append(j+1)\n",
    "        nearest.append((i+1, tuple(temp)))\n",
    "    return nearest"
   ]
  },
  {
   "cell_type": "code",
   "execution_count": 18,
   "metadata": {
    "collapsed": true
   },
   "outputs": [],
   "source": [
    "n = get_nearest(coords,15)"
   ]
  },
  {
   "cell_type": "code",
   "execution_count": 32,
   "metadata": {
    "collapsed": true
   },
   "outputs": [],
   "source": [
    "timestamps = np.unique(data[:,0]%10000)"
   ]
  },
  {
   "cell_type": "code",
   "execution_count": 33,
   "metadata": {
    "collapsed": false
   },
   "outputs": [
    {
     "data": {
      "text/plain": [
       "1440"
      ]
     },
     "execution_count": 33,
     "metadata": {},
     "output_type": "execute_result"
    }
   ],
   "source": [
    "len(timestamps)"
   ]
  },
  {
   "cell_type": "code",
   "execution_count": 22,
   "metadata": {
    "collapsed": false
   },
   "outputs": [],
   "source": [
    "time_array = np.linspace(1100,1159,60)"
   ]
  },
  {
   "cell_type": "code",
   "execution_count": 37,
   "metadata": {
    "collapsed": false
   },
   "outputs": [],
   "source": [
    "window_size = 20\n",
    "intervals=[]\n",
    "for ii in range(0,len(timestamps)-window_size+1,10):\n",
    "    intervals.append(timestamps[ii:ii+window_size])"
   ]
  },
  {
   "cell_type": "markdown",
   "metadata": {},
   "source": [
    "The idea is to estimate the distribution for each 20 minute interval (maybe less, 5 or 10 minutes might make more sense) for each sensor. \n",
    "\n",
    "From this distribution, you can randomly sample a specified number of times and then take the average of this sample to fill in the missing data. \n",
    "\n",
    "After you've filled the missing data you can then take a spatial average (using the nearest neighbors of each sensor that has missing data at that time step), giving the neighbors a higher weighting. \n",
    "\n",
    "Do this form of median filtering a couple of times. Check and see..."
   ]
  },
  {
   "cell_type": "code",
   "execution_count": 42,
   "metadata": {
    "collapsed": true
   },
   "outputs": [],
   "source": [
    "cur_time = 1620"
   ]
  },
  {
   "cell_type": "code",
   "execution_count": 43,
   "metadata": {
    "collapsed": true
   },
   "outputs": [],
   "source": [
    "sample_intervals = []\n",
    "for intval in intervals:\n",
    "    if cur_time in intval:\n",
    "        sample_intervals.append(intval)"
   ]
  },
  {
   "cell_type": "code",
   "execution_count": 44,
   "metadata": {
    "collapsed": false
   },
   "outputs": [
    {
     "data": {
      "text/plain": [
       "[array([1610, 1611, 1612, 1613, 1614, 1615, 1616, 1617, 1618, 1619, 1620,\n",
       "        1621, 1622, 1623, 1624, 1625, 1626, 1627, 1628, 1629]),\n",
       " array([1620, 1621, 1622, 1623, 1624, 1625, 1626, 1627, 1628, 1629, 1630,\n",
       "        1631, 1632, 1633, 1634, 1635, 1636, 1637, 1638, 1639])]"
      ]
     },
     "execution_count": 44,
     "metadata": {},
     "output_type": "execute_result"
    }
   ],
   "source": [
    "sample_intervals"
   ]
  },
  {
   "cell_type": "code",
   "execution_count": null,
   "metadata": {
    "collapsed": true
   },
   "outputs": [],
   "source": [
    "KernelDensity()"
   ]
  },
  {
   "cell_type": "code",
   "execution_count": null,
   "metadata": {
    "collapsed": true
   },
   "outputs": [],
   "source": [
    "grid = GridSearchCV(KernelDensity(),\n",
    "                    {'bandwidth': np.linspace(0.1, 1.0, 10)},\n",
    "                    cv=20) # 20-fold cross-validation\n",
    "grid.fit(x[:, None])\n",
    "print grid.best_params_"
   ]
  },
  {
   "cell_type": "code",
   "execution_count": null,
   "metadata": {
    "collapsed": true
   },
   "outputs": [],
   "source": []
  }
 ],
 "metadata": {
  "kernelspec": {
   "display_name": "Python 2",
   "language": "python",
   "name": "python2"
  },
  "language_info": {
   "codemirror_mode": {
    "name": "ipython",
    "version": 2
   },
   "file_extension": ".py",
   "mimetype": "text/x-python",
   "name": "python",
   "nbconvert_exporter": "python",
   "pygments_lexer": "ipython2",
   "version": "2.7.10"
  }
 },
 "nbformat": 4,
 "nbformat_minor": 0
}
